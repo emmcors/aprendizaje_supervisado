{
 "cells": [
  {
   "cell_type": "markdown",
   "metadata": {},
   "source": [
    "# Beta Bank\n",
    "\n",
    "Los clientes de Beta Bank se están yendo, cada mes, poco a poco.\n",
    "Necesitamos predecir si un cliente dejará el banco pronto. Contamos con los datos sobre el comportamiento pasado de los clientes y la terminación de contratos con el banco.\n",
    "\n",
    "- *RowNumber*: índice de cadena de datos\n",
    "- *CustomerId:* identificador de cliente único\n",
    "- *Surname:* apellido\n",
    "- *CreditScore:* valor de crédito\n",
    "- *Geography:* país de residencia\n",
    "- *Gender:* sexo\n",
    "- *Age:* edad\n",
    "- *Tenure:* período durante el cual ha madurado el depósito a plazo fijo de un cliente (años)    \n",
    "- *Balance:* saldo de la cuenta\n",
    "- *NumOfProducts:* número de productos bancarios utilizados por el cliente\n",
    "- *HasCrCard:* el cliente tiene una tarjeta de crédito (1 - sí; 0 - no)\n",
    "- *IsActiveMember:* actividad del cliente (1 - sí; 0 - no)\n",
    "- *EstimatedSalary:* salario estimado\n",
    "- *Exited:* El cliente se ha ido (1 - sí; 0 - no)\n",
    "\n",
    "El objetivo de este proyecto es crear un modelo con el máximo valor *F1* posible, con un valor *F1* de al menos 0.59 para el conjunto de prueba."
   ]
  },
  {
   "cell_type": "markdown",
   "metadata": {},
   "source": [
    "## Exploracion inicial de datos"
   ]
  },
  {
   "cell_type": "markdown",
   "metadata": {},
   "source": [
    "### Importación de librerías y archivos"
   ]
  },
  {
   "cell_type": "code",
   "execution_count": 1,
   "metadata": {},
   "outputs": [],
   "source": [
    "# importamos las librerías necesarias\n",
    "import pandas as pd\n",
    "from sklearn.model_selection import train_test_split \n",
    "\n",
    "from sklearn.preprocessing import StandardScaler # escalado de características\n",
    "from sklearn.utils import shuffle # mezclar datos\n",
    "from sklearn.metrics import accuracy_score # exactitud\n",
    "from sklearn.metrics import confusion_matrix # matriz de confusión\n",
    "from sklearn.metrics import recall_score # recall\n",
    "from sklearn.metrics import precision_score # precisión\n",
    "from sklearn.metrics import f1_score #f1\n",
    "from sklearn.metrics import roc_auc_score # auc roc\n",
    "\n",
    "# algoritmos de machine learning\n",
    "from sklearn.linear_model import LogisticRegression\n",
    "from sklearn.tree import DecisionTreeClassifier"
   ]
  },
  {
   "cell_type": "code",
   "execution_count": 2,
   "metadata": {},
   "outputs": [],
   "source": [
    "# cargamos los datos del dataset\n",
    "data = pd.read_csv('./datasets/Churn.csv')"
   ]
  },
  {
   "cell_type": "code",
   "execution_count": 3,
   "metadata": {},
   "outputs": [
    {
     "data": {
      "text/html": [
       "<div>\n",
       "<style scoped>\n",
       "    .dataframe tbody tr th:only-of-type {\n",
       "        vertical-align: middle;\n",
       "    }\n",
       "\n",
       "    .dataframe tbody tr th {\n",
       "        vertical-align: top;\n",
       "    }\n",
       "\n",
       "    .dataframe thead th {\n",
       "        text-align: right;\n",
       "    }\n",
       "</style>\n",
       "<table border=\"1\" class=\"dataframe\">\n",
       "  <thead>\n",
       "    <tr style=\"text-align: right;\">\n",
       "      <th></th>\n",
       "      <th>RowNumber</th>\n",
       "      <th>CustomerId</th>\n",
       "      <th>Surname</th>\n",
       "      <th>CreditScore</th>\n",
       "      <th>Geography</th>\n",
       "      <th>Gender</th>\n",
       "      <th>Age</th>\n",
       "      <th>Tenure</th>\n",
       "      <th>Balance</th>\n",
       "      <th>NumOfProducts</th>\n",
       "      <th>HasCrCard</th>\n",
       "      <th>IsActiveMember</th>\n",
       "      <th>EstimatedSalary</th>\n",
       "      <th>Exited</th>\n",
       "    </tr>\n",
       "  </thead>\n",
       "  <tbody>\n",
       "    <tr>\n",
       "      <th>0</th>\n",
       "      <td>1</td>\n",
       "      <td>15634602</td>\n",
       "      <td>Hargrave</td>\n",
       "      <td>619</td>\n",
       "      <td>France</td>\n",
       "      <td>Female</td>\n",
       "      <td>42</td>\n",
       "      <td>2.0</td>\n",
       "      <td>0.00</td>\n",
       "      <td>1</td>\n",
       "      <td>1</td>\n",
       "      <td>1</td>\n",
       "      <td>101348.88</td>\n",
       "      <td>1</td>\n",
       "    </tr>\n",
       "    <tr>\n",
       "      <th>1</th>\n",
       "      <td>2</td>\n",
       "      <td>15647311</td>\n",
       "      <td>Hill</td>\n",
       "      <td>608</td>\n",
       "      <td>Spain</td>\n",
       "      <td>Female</td>\n",
       "      <td>41</td>\n",
       "      <td>1.0</td>\n",
       "      <td>83807.86</td>\n",
       "      <td>1</td>\n",
       "      <td>0</td>\n",
       "      <td>1</td>\n",
       "      <td>112542.58</td>\n",
       "      <td>0</td>\n",
       "    </tr>\n",
       "    <tr>\n",
       "      <th>2</th>\n",
       "      <td>3</td>\n",
       "      <td>15619304</td>\n",
       "      <td>Onio</td>\n",
       "      <td>502</td>\n",
       "      <td>France</td>\n",
       "      <td>Female</td>\n",
       "      <td>42</td>\n",
       "      <td>8.0</td>\n",
       "      <td>159660.80</td>\n",
       "      <td>3</td>\n",
       "      <td>1</td>\n",
       "      <td>0</td>\n",
       "      <td>113931.57</td>\n",
       "      <td>1</td>\n",
       "    </tr>\n",
       "    <tr>\n",
       "      <th>3</th>\n",
       "      <td>4</td>\n",
       "      <td>15701354</td>\n",
       "      <td>Boni</td>\n",
       "      <td>699</td>\n",
       "      <td>France</td>\n",
       "      <td>Female</td>\n",
       "      <td>39</td>\n",
       "      <td>1.0</td>\n",
       "      <td>0.00</td>\n",
       "      <td>2</td>\n",
       "      <td>0</td>\n",
       "      <td>0</td>\n",
       "      <td>93826.63</td>\n",
       "      <td>0</td>\n",
       "    </tr>\n",
       "    <tr>\n",
       "      <th>4</th>\n",
       "      <td>5</td>\n",
       "      <td>15737888</td>\n",
       "      <td>Mitchell</td>\n",
       "      <td>850</td>\n",
       "      <td>Spain</td>\n",
       "      <td>Female</td>\n",
       "      <td>43</td>\n",
       "      <td>2.0</td>\n",
       "      <td>125510.82</td>\n",
       "      <td>1</td>\n",
       "      <td>1</td>\n",
       "      <td>1</td>\n",
       "      <td>79084.10</td>\n",
       "      <td>0</td>\n",
       "    </tr>\n",
       "  </tbody>\n",
       "</table>\n",
       "</div>"
      ],
      "text/plain": [
       "   RowNumber  CustomerId   Surname  CreditScore Geography  Gender  Age  \\\n",
       "0          1    15634602  Hargrave          619    France  Female   42   \n",
       "1          2    15647311      Hill          608     Spain  Female   41   \n",
       "2          3    15619304      Onio          502    France  Female   42   \n",
       "3          4    15701354      Boni          699    France  Female   39   \n",
       "4          5    15737888  Mitchell          850     Spain  Female   43   \n",
       "\n",
       "   Tenure    Balance  NumOfProducts  HasCrCard  IsActiveMember  \\\n",
       "0     2.0       0.00              1          1               1   \n",
       "1     1.0   83807.86              1          0               1   \n",
       "2     8.0  159660.80              3          1               0   \n",
       "3     1.0       0.00              2          0               0   \n",
       "4     2.0  125510.82              1          1               1   \n",
       "\n",
       "   EstimatedSalary  Exited  \n",
       "0        101348.88       1  \n",
       "1        112542.58       0  \n",
       "2        113931.57       1  \n",
       "3         93826.63       0  \n",
       "4         79084.10       0  "
      ]
     },
     "execution_count": 3,
     "metadata": {},
     "output_type": "execute_result"
    }
   ],
   "source": [
    "# mostramos la estructura y contenido del dataset\n",
    "data.head()"
   ]
  },
  {
   "cell_type": "code",
   "execution_count": 4,
   "metadata": {},
   "outputs": [
    {
     "name": "stdout",
     "output_type": "stream",
     "text": [
      "<class 'pandas.core.frame.DataFrame'>\n",
      "RangeIndex: 10000 entries, 0 to 9999\n",
      "Data columns (total 14 columns):\n",
      " #   Column           Non-Null Count  Dtype  \n",
      "---  ------           --------------  -----  \n",
      " 0   RowNumber        10000 non-null  int64  \n",
      " 1   CustomerId       10000 non-null  int64  \n",
      " 2   Surname          10000 non-null  object \n",
      " 3   CreditScore      10000 non-null  int64  \n",
      " 4   Geography        10000 non-null  object \n",
      " 5   Gender           10000 non-null  object \n",
      " 6   Age              10000 non-null  int64  \n",
      " 7   Tenure           9091 non-null   float64\n",
      " 8   Balance          10000 non-null  float64\n",
      " 9   NumOfProducts    10000 non-null  int64  \n",
      " 10  HasCrCard        10000 non-null  int64  \n",
      " 11  IsActiveMember   10000 non-null  int64  \n",
      " 12  EstimatedSalary  10000 non-null  float64\n",
      " 13  Exited           10000 non-null  int64  \n",
      "dtypes: float64(3), int64(8), object(3)\n",
      "memory usage: 1.1+ MB\n"
     ]
    }
   ],
   "source": [
    "data.info()"
   ]
  },
  {
   "cell_type": "code",
   "execution_count": 5,
   "metadata": {},
   "outputs": [
    {
     "data": {
      "text/html": [
       "<div>\n",
       "<style scoped>\n",
       "    .dataframe tbody tr th:only-of-type {\n",
       "        vertical-align: middle;\n",
       "    }\n",
       "\n",
       "    .dataframe tbody tr th {\n",
       "        vertical-align: top;\n",
       "    }\n",
       "\n",
       "    .dataframe thead th {\n",
       "        text-align: right;\n",
       "    }\n",
       "</style>\n",
       "<table border=\"1\" class=\"dataframe\">\n",
       "  <thead>\n",
       "    <tr style=\"text-align: right;\">\n",
       "      <th></th>\n",
       "      <th>RowNumber</th>\n",
       "      <th>CustomerId</th>\n",
       "      <th>CreditScore</th>\n",
       "      <th>Age</th>\n",
       "      <th>Tenure</th>\n",
       "      <th>Balance</th>\n",
       "      <th>NumOfProducts</th>\n",
       "      <th>HasCrCard</th>\n",
       "      <th>IsActiveMember</th>\n",
       "      <th>EstimatedSalary</th>\n",
       "      <th>Exited</th>\n",
       "    </tr>\n",
       "  </thead>\n",
       "  <tbody>\n",
       "    <tr>\n",
       "      <th>count</th>\n",
       "      <td>10000.00000</td>\n",
       "      <td>1.000000e+04</td>\n",
       "      <td>10000.000000</td>\n",
       "      <td>10000.000000</td>\n",
       "      <td>9091.000000</td>\n",
       "      <td>10000.000000</td>\n",
       "      <td>10000.000000</td>\n",
       "      <td>10000.00000</td>\n",
       "      <td>10000.000000</td>\n",
       "      <td>10000.000000</td>\n",
       "      <td>10000.000000</td>\n",
       "    </tr>\n",
       "    <tr>\n",
       "      <th>mean</th>\n",
       "      <td>5000.50000</td>\n",
       "      <td>1.569094e+07</td>\n",
       "      <td>650.528800</td>\n",
       "      <td>38.921800</td>\n",
       "      <td>4.997690</td>\n",
       "      <td>76485.889288</td>\n",
       "      <td>1.530200</td>\n",
       "      <td>0.70550</td>\n",
       "      <td>0.515100</td>\n",
       "      <td>100090.239881</td>\n",
       "      <td>0.203700</td>\n",
       "    </tr>\n",
       "    <tr>\n",
       "      <th>std</th>\n",
       "      <td>2886.89568</td>\n",
       "      <td>7.193619e+04</td>\n",
       "      <td>96.653299</td>\n",
       "      <td>10.487806</td>\n",
       "      <td>2.894723</td>\n",
       "      <td>62397.405202</td>\n",
       "      <td>0.581654</td>\n",
       "      <td>0.45584</td>\n",
       "      <td>0.499797</td>\n",
       "      <td>57510.492818</td>\n",
       "      <td>0.402769</td>\n",
       "    </tr>\n",
       "    <tr>\n",
       "      <th>min</th>\n",
       "      <td>1.00000</td>\n",
       "      <td>1.556570e+07</td>\n",
       "      <td>350.000000</td>\n",
       "      <td>18.000000</td>\n",
       "      <td>0.000000</td>\n",
       "      <td>0.000000</td>\n",
       "      <td>1.000000</td>\n",
       "      <td>0.00000</td>\n",
       "      <td>0.000000</td>\n",
       "      <td>11.580000</td>\n",
       "      <td>0.000000</td>\n",
       "    </tr>\n",
       "    <tr>\n",
       "      <th>25%</th>\n",
       "      <td>2500.75000</td>\n",
       "      <td>1.562853e+07</td>\n",
       "      <td>584.000000</td>\n",
       "      <td>32.000000</td>\n",
       "      <td>2.000000</td>\n",
       "      <td>0.000000</td>\n",
       "      <td>1.000000</td>\n",
       "      <td>0.00000</td>\n",
       "      <td>0.000000</td>\n",
       "      <td>51002.110000</td>\n",
       "      <td>0.000000</td>\n",
       "    </tr>\n",
       "    <tr>\n",
       "      <th>50%</th>\n",
       "      <td>5000.50000</td>\n",
       "      <td>1.569074e+07</td>\n",
       "      <td>652.000000</td>\n",
       "      <td>37.000000</td>\n",
       "      <td>5.000000</td>\n",
       "      <td>97198.540000</td>\n",
       "      <td>1.000000</td>\n",
       "      <td>1.00000</td>\n",
       "      <td>1.000000</td>\n",
       "      <td>100193.915000</td>\n",
       "      <td>0.000000</td>\n",
       "    </tr>\n",
       "    <tr>\n",
       "      <th>75%</th>\n",
       "      <td>7500.25000</td>\n",
       "      <td>1.575323e+07</td>\n",
       "      <td>718.000000</td>\n",
       "      <td>44.000000</td>\n",
       "      <td>7.000000</td>\n",
       "      <td>127644.240000</td>\n",
       "      <td>2.000000</td>\n",
       "      <td>1.00000</td>\n",
       "      <td>1.000000</td>\n",
       "      <td>149388.247500</td>\n",
       "      <td>0.000000</td>\n",
       "    </tr>\n",
       "    <tr>\n",
       "      <th>max</th>\n",
       "      <td>10000.00000</td>\n",
       "      <td>1.581569e+07</td>\n",
       "      <td>850.000000</td>\n",
       "      <td>92.000000</td>\n",
       "      <td>10.000000</td>\n",
       "      <td>250898.090000</td>\n",
       "      <td>4.000000</td>\n",
       "      <td>1.00000</td>\n",
       "      <td>1.000000</td>\n",
       "      <td>199992.480000</td>\n",
       "      <td>1.000000</td>\n",
       "    </tr>\n",
       "  </tbody>\n",
       "</table>\n",
       "</div>"
      ],
      "text/plain": [
       "         RowNumber    CustomerId   CreditScore           Age       Tenure  \\\n",
       "count  10000.00000  1.000000e+04  10000.000000  10000.000000  9091.000000   \n",
       "mean    5000.50000  1.569094e+07    650.528800     38.921800     4.997690   \n",
       "std     2886.89568  7.193619e+04     96.653299     10.487806     2.894723   \n",
       "min        1.00000  1.556570e+07    350.000000     18.000000     0.000000   \n",
       "25%     2500.75000  1.562853e+07    584.000000     32.000000     2.000000   \n",
       "50%     5000.50000  1.569074e+07    652.000000     37.000000     5.000000   \n",
       "75%     7500.25000  1.575323e+07    718.000000     44.000000     7.000000   \n",
       "max    10000.00000  1.581569e+07    850.000000     92.000000    10.000000   \n",
       "\n",
       "             Balance  NumOfProducts    HasCrCard  IsActiveMember  \\\n",
       "count   10000.000000   10000.000000  10000.00000    10000.000000   \n",
       "mean    76485.889288       1.530200      0.70550        0.515100   \n",
       "std     62397.405202       0.581654      0.45584        0.499797   \n",
       "min         0.000000       1.000000      0.00000        0.000000   \n",
       "25%         0.000000       1.000000      0.00000        0.000000   \n",
       "50%     97198.540000       1.000000      1.00000        1.000000   \n",
       "75%    127644.240000       2.000000      1.00000        1.000000   \n",
       "max    250898.090000       4.000000      1.00000        1.000000   \n",
       "\n",
       "       EstimatedSalary        Exited  \n",
       "count     10000.000000  10000.000000  \n",
       "mean     100090.239881      0.203700  \n",
       "std       57510.492818      0.402769  \n",
       "min          11.580000      0.000000  \n",
       "25%       51002.110000      0.000000  \n",
       "50%      100193.915000      0.000000  \n",
       "75%      149388.247500      0.000000  \n",
       "max      199992.480000      1.000000  "
      ]
     },
     "execution_count": 5,
     "metadata": {},
     "output_type": "execute_result"
    }
   ],
   "source": [
    "data.describe()"
   ]
  },
  {
   "cell_type": "markdown",
   "metadata": {},
   "source": [
    "Podemos ver que la columna 'Tenure' contine valores ausentes. Esta columna hace referencia al número de años que el cliente ha mantenido un deposito a plazo fijo. Por lo es posible que los cliente que no tengan valores en esta columna, no hayan cumplido ni un año dentro del banco o sean cliente inactivos. Dado este escenario, rellenaremos los valores ausentes con ceros."
   ]
  },
  {
   "cell_type": "markdown",
   "metadata": {},
   "source": [
    "Adicional a esto, podemos ver que los datos están distribuidos normalmente, a excepción de la columna 'Balance' que tiene un sesgo hacía la izquierda, ya que la media es considerablemente menor que la mediana."
   ]
  },
  {
   "cell_type": "markdown",
   "metadata": {},
   "source": [
    "## Preparación de los datos"
   ]
  },
  {
   "cell_type": "markdown",
   "metadata": {},
   "source": [
    "### Valores ausentes"
   ]
  },
  {
   "cell_type": "code",
   "execution_count": 6,
   "metadata": {},
   "outputs": [],
   "source": [
    "# llenamos con cero los valores ausentes para la columna 'Tenure'\n",
    "data.fillna(0, inplace = True)"
   ]
  },
  {
   "cell_type": "code",
   "execution_count": 7,
   "metadata": {},
   "outputs": [
    {
     "name": "stdout",
     "output_type": "stream",
     "text": [
      "<class 'pandas.core.frame.DataFrame'>\n",
      "RangeIndex: 10000 entries, 0 to 9999\n",
      "Data columns (total 14 columns):\n",
      " #   Column           Non-Null Count  Dtype  \n",
      "---  ------           --------------  -----  \n",
      " 0   RowNumber        10000 non-null  int64  \n",
      " 1   CustomerId       10000 non-null  int64  \n",
      " 2   Surname          10000 non-null  object \n",
      " 3   CreditScore      10000 non-null  int64  \n",
      " 4   Geography        10000 non-null  object \n",
      " 5   Gender           10000 non-null  object \n",
      " 6   Age              10000 non-null  int64  \n",
      " 7   Tenure           10000 non-null  float64\n",
      " 8   Balance          10000 non-null  float64\n",
      " 9   NumOfProducts    10000 non-null  int64  \n",
      " 10  HasCrCard        10000 non-null  int64  \n",
      " 11  IsActiveMember   10000 non-null  int64  \n",
      " 12  EstimatedSalary  10000 non-null  float64\n",
      " 13  Exited           10000 non-null  int64  \n",
      "dtypes: float64(3), int64(8), object(3)\n",
      "memory usage: 1.1+ MB\n"
     ]
    }
   ],
   "source": [
    "data.info()"
   ]
  },
  {
   "cell_type": "markdown",
   "metadata": {},
   "source": [
    "### Valores duplicados\n",
    "Ahora que no existen valores ausentes, veamos si existen valores duplicados"
   ]
  },
  {
   "cell_type": "code",
   "execution_count": 8,
   "metadata": {},
   "outputs": [
    {
     "name": "stdout",
     "output_type": "stream",
     "text": [
      "Numero de valores duplicados: 0\n"
     ]
    }
   ],
   "source": [
    "print('Numero de valores duplicados:', data.duplicated().sum())"
   ]
  },
  {
   "cell_type": "markdown",
   "metadata": {},
   "source": [
    "### OHE\n",
    "Para predecir que clientes dejarán el banco, ocuparemos la regresión logística. Hay que recordar que este algoritmo determina la categoría utilizando una fórmula que consta de características numéricas. Debido a que nuestros datos contienen características categoricas, transformaremos las características categóricas en numéricas con \"One-Hot Encoding\".  \n",
    "\n",
    "Para simplificar y optimizar los datos, eliminaremos las columnas que no aportan valor predictivo al modelo, como `RowNumber`, `CustomerId` y `Surname`, antes de realizar la codificación OHE. Estas columnas no contienen información que pueda ayudar al modelo a predecir si un cliente dejará el banco o no, y mantenerlas podría añadir ruido al modelo o aumentar innecesariamente la dimensionalidad de los datos."
   ]
  },
  {
   "cell_type": "code",
   "execution_count": 9,
   "metadata": {},
   "outputs": [],
   "source": [
    "# Eliminamos las columnas que no contribuyen a las predicciones\n",
    "data = data.drop(['RowNumber','CustomerId','Surname'], axis=1)"
   ]
  },
  {
   "cell_type": "code",
   "execution_count": 10,
   "metadata": {},
   "outputs": [
    {
     "data": {
      "text/html": [
       "<div>\n",
       "<style scoped>\n",
       "    .dataframe tbody tr th:only-of-type {\n",
       "        vertical-align: middle;\n",
       "    }\n",
       "\n",
       "    .dataframe tbody tr th {\n",
       "        vertical-align: top;\n",
       "    }\n",
       "\n",
       "    .dataframe thead th {\n",
       "        text-align: right;\n",
       "    }\n",
       "</style>\n",
       "<table border=\"1\" class=\"dataframe\">\n",
       "  <thead>\n",
       "    <tr style=\"text-align: right;\">\n",
       "      <th></th>\n",
       "      <th>CreditScore</th>\n",
       "      <th>Age</th>\n",
       "      <th>Tenure</th>\n",
       "      <th>Balance</th>\n",
       "      <th>NumOfProducts</th>\n",
       "      <th>HasCrCard</th>\n",
       "      <th>IsActiveMember</th>\n",
       "      <th>EstimatedSalary</th>\n",
       "      <th>Exited</th>\n",
       "      <th>Geography_Germany</th>\n",
       "      <th>Geography_Spain</th>\n",
       "      <th>Gender_Male</th>\n",
       "    </tr>\n",
       "  </thead>\n",
       "  <tbody>\n",
       "    <tr>\n",
       "      <th>0</th>\n",
       "      <td>619</td>\n",
       "      <td>42</td>\n",
       "      <td>2.0</td>\n",
       "      <td>0.00</td>\n",
       "      <td>1</td>\n",
       "      <td>1</td>\n",
       "      <td>1</td>\n",
       "      <td>101348.88</td>\n",
       "      <td>1</td>\n",
       "      <td>False</td>\n",
       "      <td>False</td>\n",
       "      <td>False</td>\n",
       "    </tr>\n",
       "    <tr>\n",
       "      <th>1</th>\n",
       "      <td>608</td>\n",
       "      <td>41</td>\n",
       "      <td>1.0</td>\n",
       "      <td>83807.86</td>\n",
       "      <td>1</td>\n",
       "      <td>0</td>\n",
       "      <td>1</td>\n",
       "      <td>112542.58</td>\n",
       "      <td>0</td>\n",
       "      <td>False</td>\n",
       "      <td>True</td>\n",
       "      <td>False</td>\n",
       "    </tr>\n",
       "    <tr>\n",
       "      <th>2</th>\n",
       "      <td>502</td>\n",
       "      <td>42</td>\n",
       "      <td>8.0</td>\n",
       "      <td>159660.80</td>\n",
       "      <td>3</td>\n",
       "      <td>1</td>\n",
       "      <td>0</td>\n",
       "      <td>113931.57</td>\n",
       "      <td>1</td>\n",
       "      <td>False</td>\n",
       "      <td>False</td>\n",
       "      <td>False</td>\n",
       "    </tr>\n",
       "  </tbody>\n",
       "</table>\n",
       "</div>"
      ],
      "text/plain": [
       "   CreditScore  Age  Tenure    Balance  NumOfProducts  HasCrCard  \\\n",
       "0          619   42     2.0       0.00              1          1   \n",
       "1          608   41     1.0   83807.86              1          0   \n",
       "2          502   42     8.0  159660.80              3          1   \n",
       "\n",
       "   IsActiveMember  EstimatedSalary  Exited  Geography_Germany  \\\n",
       "0               1        101348.88       1              False   \n",
       "1               1        112542.58       0              False   \n",
       "2               0        113931.57       1              False   \n",
       "\n",
       "   Geography_Spain  Gender_Male  \n",
       "0            False        False  \n",
       "1             True        False  \n",
       "2            False        False  "
      ]
     },
     "execution_count": 10,
     "metadata": {},
     "output_type": "execute_result"
    }
   ],
   "source": [
    "data_ohe = pd.get_dummies(data, drop_first=True)\n",
    "data_ohe.head(3)"
   ]
  },
  {
   "cell_type": "markdown",
   "metadata": {},
   "source": [
    "### Segmentación de los datos\n",
    "Debido a que no contamos con un conjunto de prueba, segmentaremos los datos fuente en tres conjutos: un conjunto de entrenamiento, uno de validación y uno de prueba. Ya que el conjunto de entrenamiento debe ser más grande y el conjunto de prueba debe ser del mismo tamaño que el conjuto de validación, usaremos una proporción 3:1:1 (60%:20%:20%).  \n",
    "Pero antes separaremos el conjunto en dos subconjuntos, uno con características y otro con el objetivo."
   ]
  },
  {
   "cell_type": "code",
   "execution_count": 11,
   "metadata": {},
   "outputs": [],
   "source": [
    "# conjuntos de características y objetivo\n",
    "features = data_ohe.drop('Exited',axis=1)\n",
    "target = data_ohe['Exited']"
   ]
  },
  {
   "cell_type": "code",
   "execution_count": 12,
   "metadata": {},
   "outputs": [],
   "source": [
    "# dividimos el dataset en dos conjuntos, entrenamiento y (validación + prueba)\n",
    "features_train, features_temp, target_train, target_temp = train_test_split(features, target, test_size=0.4, random_state=12345)"
   ]
  },
  {
   "cell_type": "code",
   "execution_count": 13,
   "metadata": {},
   "outputs": [],
   "source": [
    "# dividimos el dataset temporal en el conjunto de validación y prueba\n",
    "features_valid, features_test, target_valid, target_test = train_test_split(features_temp, target_temp, test_size=0.5, random_state=12345)"
   ]
  },
  {
   "cell_type": "code",
   "execution_count": 14,
   "metadata": {},
   "outputs": [
    {
     "name": "stdout",
     "output_type": "stream",
     "text": [
      "(6000, 11) (6000,)\n",
      "(2000, 11) (2000,)\n",
      "(2000, 11) (2000,)\n"
     ]
    }
   ],
   "source": [
    "# mostramos el tamaño de los conjuntos\n",
    "print(features_train.shape, target_train.shape)\n",
    "print(features_valid.shape, target_valid.shape)\n",
    "print(features_test.shape, target_test.shape)"
   ]
  },
  {
   "cell_type": "markdown",
   "metadata": {},
   "source": [
    "### Estandarización de caraterísticas\n",
    "También podemos observar que las características tiene escalas diferentes y debido a que necesitamos que todas las características sean igualmente importantes, realizaremos un escalado de características a travez de la estandarización de los datos, incluyendo todas las carácteristicas númericas, excepto las booleanas que contiene 0's y 1's."
   ]
  },
  {
   "cell_type": "code",
   "execution_count": 15,
   "metadata": {},
   "outputs": [],
   "source": [
    "# seleccionamos solo las columnas con datos númericos\n",
    "numeric = [\"CreditScore\", \"Tenure\", \"Age\", \"Balance\", \"NumOfProducts\", \"EstimatedSalary\"]\n",
    "\n",
    "scaler = StandardScaler()\n",
    "scaler.fit(features_train[numeric])\n",
    "\n",
    "# Realizamos la transformación y convertimos a float64\n",
    "features_train[numeric] = scaler.transform(features_train[numeric]).astype(float)\n",
    "features_valid[numeric] = scaler.transform(features_valid[numeric]).astype(float)\n",
    "features_test[numeric] = scaler.transform(features_test[numeric]).astype(float)\n",
    "\n",
    "pd.options.mode.chained_assignment = None"
   ]
  },
  {
   "cell_type": "markdown",
   "metadata": {},
   "source": [
    "## Entrenamiento sin equilibrio de clases\n",
    "Examinaremos el equilibrio entre clases. Para esto, entrenaremos el modelo y comprobaremos su exactitud."
   ]
  },
  {
   "cell_type": "code",
   "execution_count": 16,
   "metadata": {},
   "outputs": [
    {
     "name": "stdout",
     "output_type": "stream",
     "text": [
      "0.7865\n"
     ]
    }
   ],
   "source": [
    "model = DecisionTreeClassifier(random_state=12345) \n",
    "model.fit(features_train,target_train)\n",
    "\n",
    "predicted_valid = model.predict(features_valid)\n",
    "accuracy_valid = accuracy_score(predicted_valid, target_valid)\n",
    "\n",
    "print(accuracy_valid)"
   ]
  },
  {
   "cell_type": "markdown",
   "metadata": {},
   "source": [
    "La exactitud es bastante alta pero hagamos una prueba de cordura. \n",
    "\n",
    "Primero, verifiquemos con qué frecuencia la variable objetivo contiene la clase \"1\" o \"0\"."
   ]
  },
  {
   "cell_type": "code",
   "execution_count": 17,
   "metadata": {},
   "outputs": [
    {
     "name": "stdout",
     "output_type": "stream",
     "text": [
      "Exited\n",
      "0    0.7963\n",
      "1    0.2037\n",
      "Name: proportion, dtype: float64\n"
     ]
    },
    {
     "data": {
      "text/plain": [
       "<Axes: xlabel='Exited'>"
      ]
     },
     "execution_count": 17,
     "metadata": {},
     "output_type": "execute_result"
    },
    {
     "data": {
      "image/png": "[encoded data removed]",
      "text/plain": [
       "<Figure size 640x480 with 1 Axes>"
      ]
     },
     "metadata": {},
     "output_type": "display_data"
    }
   ],
   "source": [
    "class_frequency = data['Exited'].value_counts(normalize=True) # frecuencias relativas\n",
    "\n",
    "print(class_frequency)\n",
    "\n",
    "class_frequency.plot(kind='bar')"
   ]
  },
  {
   "cell_type": "markdown",
   "metadata": {},
   "source": [
    "Aproximadamente el 20% de los clientes abandonaron el banco."
   ]
  },
  {
   "cell_type": "markdown",
   "metadata": {},
   "source": [
    "Ahora analizaremos las frecuencias de clase de las predicciones del modelo."
   ]
  },
  {
   "cell_type": "code",
   "execution_count": 18,
   "metadata": {},
   "outputs": [
    {
     "name": "stdout",
     "output_type": "stream",
     "text": [
      "0    0.7985\n",
      "1    0.2015\n",
      "Name: proportion, dtype: float64\n"
     ]
    },
    {
     "data": {
      "text/plain": [
       "<Axes: >"
      ]
     },
     "execution_count": 18,
     "metadata": {},
     "output_type": "execute_result"
    },
    {
     "data": {
      "image/png": "[encoded data removed]",
      "text/plain": [
       "<Figure size 640x480 with 1 Axes>"
      ]
     },
     "metadata": {},
     "output_type": "display_data"
    }
   ],
   "source": [
    "# para hacer que value_counts() funcione, convertimos los resultados a pd.Series\n",
    "predicted_valid_series = pd.Series(predicted_valid)\n",
    "class_frequency = predicted_valid_series.value_counts(normalize=True)\n",
    "print(class_frequency)\n",
    "class_frequency.plot(kind='bar')"
   ]
  },
  {
   "cell_type": "markdown",
   "metadata": {},
   "source": [
    "Parece que el modelo mantiene una proporción de valores positivos y negativos similares a los proporcionados por el dataset original, como si simplemente estuviera eligiendo la clase más común. "
   ]
  },
  {
   "cell_type": "markdown",
   "metadata": {},
   "source": [
    "Hagmos una prueba de cordura, comparando la exactitud de un modelo constante con la exactitud de nuestro modelo."
   ]
  },
  {
   "cell_type": "code",
   "execution_count": 19,
   "metadata": {},
   "outputs": [
    {
     "name": "stdout",
     "output_type": "stream",
     "text": [
      "0.7963\n"
     ]
    }
   ],
   "source": [
    "target_constant = pd.Series([0]*features.shape[0])\n",
    "\n",
    "print(accuracy_score(target, target_constant))"
   ]
  },
  {
   "cell_type": "markdown",
   "metadata": {},
   "source": [
    "El modelo constante muestra una mejor exactitud en comparación con nuestro modelo, lo que sugiere que nuestro modelo podría no estar capturando patrones significativos en los datos. Esto podría deberse a un desequilibrio de clases, por lo que emplearemos otra métrica diferente a la exactitud para evaluar nuestro modelo."
   ]
  },
  {
   "cell_type": "markdown",
   "metadata": {},
   "source": [
    "### Matriz de confusión\n",
    "Inicialmente veamos la matriz de confusión para el modelo."
   ]
  },
  {
   "cell_type": "code",
   "execution_count": 20,
   "metadata": {},
   "outputs": [
    {
     "name": "stdout",
     "output_type": "stream",
     "text": [
      "[[1376  206]\n",
      " [ 221  197]]\n"
     ]
    }
   ],
   "source": [
    "print(confusion_matrix(target_valid,predicted_valid))"
   ]
  },
  {
   "cell_type": "markdown",
   "metadata": {},
   "source": [
    "El modelo se inclina por las respuestas negativas y, aunque en la mayoría de los casos acierta, esto no es útil para hacer una buena predicción."
   ]
  },
  {
   "cell_type": "markdown",
   "metadata": {},
   "source": [
    "### Valor F1\n",
    "Vamos a calcular el valor F1 para el modelo. Recordemos que el valor F1 es la media armónica entre el recall y la precisión. El recall mide qué proporción de los positivos reales fueron correctamente identificados, mientras que la precisión indica qué proporción de las predicciones positivas fue realmente correcta."
   ]
  },
  {
   "cell_type": "code",
   "execution_count": 21,
   "metadata": {},
   "outputs": [
    {
     "name": "stdout",
     "output_type": "stream",
     "text": [
      "0.47990255785627284\n"
     ]
    }
   ],
   "source": [
    "print(f1_score(target_valid, predicted_valid))"
   ]
  },
  {
   "cell_type": "markdown",
   "metadata": {},
   "source": [
    "El valor F1 es muy bajo, lo que significa que muchas de las predicciones positivas son incorrectas y muchos de los casos positivos reales no fueron identificados. Esto podría deberse a una insuficiencia de casos positivos en los datos de entrenamiento."
   ]
  },
  {
   "cell_type": "markdown",
   "metadata": {},
   "source": [
    "### AUC-ROC\n",
    "Asimismo, calculemos el valor AUC-ROC, el cual nos muestra la diferencia entre nuestro modelo y un modelo aleatorio en términos de la relación entre la tasa de falsos positivos y la tasa de verdaderos positivos"
   ]
  },
  {
   "cell_type": "code",
   "execution_count": 22,
   "metadata": {},
   "outputs": [
    {
     "name": "stdout",
     "output_type": "stream",
     "text": [
      "0.6705384741015855\n"
     ]
    }
   ],
   "source": [
    "probabilities_valid = model.predict_proba(features_valid)\n",
    "probabilities_one_valid = probabilities_valid[:, 1]\n",
    "print(roc_auc_score(target_valid, probabilities_one_valid))"
   ]
  },
  {
   "cell_type": "markdown",
   "metadata": {},
   "source": [
    "El modelo presenta un valor AUC-ROC muy bajo, apenas superior al de un modelo aleatorio. Esto indica que tiene dificultades para diferenciar entre las clases positivas y negativas, lo que sugiere que no está capturando adecuadamente los patrones y características distintivas entre ambas clases. Veamos si podemos mejorarlo."
   ]
  },
  {
   "cell_type": "markdown",
   "metadata": {},
   "source": [
    "## Mejorar la calidad del modelo "
   ]
  },
  {
   "cell_type": "markdown",
   "metadata": {},
   "source": [
    "### Ajuste de peso de clase\n",
    "Hagamos que las clases con menos frecuencia tengan un mayor peso utilizando el atributo 'class_weight'."
   ]
  },
  {
   "cell_type": "code",
   "execution_count": 23,
   "metadata": {},
   "outputs": [
    {
     "name": "stdout",
     "output_type": "stream",
     "text": [
      "max_depth: 1\n",
      "F1: 0.49949031600407745\n",
      "AUC-ROC: 0.6925565119556736\n",
      "\n",
      "max_depth: 2\n",
      "F1: 0.541015625\n",
      "AUC-ROC: 0.7501814673449512\n",
      "\n",
      "max_depth: 3\n",
      "F1: 0.541015625\n",
      "AUC-ROC: 0.7980472601455368\n",
      "\n",
      "max_depth: 4\n",
      "F1: 0.5277777777777778\n",
      "AUC-ROC: 0.8191035210713832\n",
      "\n",
      "max_depth: 5\n",
      "F1: 0.5963791267305645\n",
      "AUC-ROC: 0.8310244134068074\n",
      "\n",
      "max_depth: 6\n",
      "F1: 0.5581835383159887\n",
      "AUC-ROC: 0.7999390572166538\n",
      "\n",
      "max_depth: 7\n",
      "F1: 0.556\n",
      "AUC-ROC: 0.7937290934496337\n",
      "\n",
      "max_depth: 8\n",
      "F1: 0.5401174168297456\n",
      "AUC-ROC: 0.7745117016192936\n",
      "\n",
      "max_depth: 9\n",
      "F1: 0.5349065880039331\n",
      "AUC-ROC: 0.7661052268644258\n",
      "\n"
     ]
    }
   ],
   "source": [
    "# arbol de decisión\n",
    "for depth in range(1,10):  # selecciona el rango de la profundidad\n",
    "    model_tree = DecisionTreeClassifier(random_state=12345, max_depth=depth, class_weight='balanced')\n",
    "    model_tree.fit(features_train, target_train)\n",
    "    \n",
    "    predicted_valid = model_tree.predict(features_valid)\n",
    "    print(\"max_depth:\", depth)\n",
    "    print('F1:', f1_score(target_valid, predicted_valid))\n",
    "    \n",
    "    probabilities_valid = model_tree.predict_proba(features_valid)\n",
    "    probabilities_one_valid = probabilities_valid[:, 1]\n",
    "    print('AUC-ROC:', roc_auc_score(target_valid, probabilities_one_valid))\n",
    "    \n",
    "    print()"
   ]
  },
  {
   "cell_type": "markdown",
   "metadata": {},
   "source": [
    "Intentemos con la regresión logística."
   ]
  },
  {
   "cell_type": "code",
   "execution_count": 24,
   "metadata": {},
   "outputs": [
    {
     "name": "stdout",
     "output_type": "stream",
     "text": [
      "F1: 0.4888888888888889\n"
     ]
    }
   ],
   "source": [
    "#regresión logística\n",
    "model = LogisticRegression(random_state=12345, solver='liblinear', class_weight='balanced')\n",
    "model.fit(features_train, target_train)\n",
    "\n",
    "#valor F1\n",
    "predicted_valid = model.predict(features_valid)\n",
    "print('F1:', f1_score(target_valid, predicted_valid))"
   ]
  },
  {
   "cell_type": "code",
   "execution_count": 25,
   "metadata": {},
   "outputs": [
    {
     "name": "stdout",
     "output_type": "stream",
     "text": [
      "AUC-ROC: 0.7635798063138539\n"
     ]
    }
   ],
   "source": [
    "# AUC-ROC\n",
    "probabilities_valid = model.predict_proba(features_valid)\n",
    "probabilities_one_valid = probabilities_valid[:, 1]\n",
    "print('AUC-ROC:', roc_auc_score(target_valid, probabilities_one_valid))"
   ]
  },
  {
   "cell_type": "markdown",
   "metadata": {},
   "source": [
    "Logramos alcanzar nuestro objetivo, consiguiente un valor F1 de 0.59. Utilizando un arbol de decisión con una profundidad máxima de 5.\n",
    "Veamos si podemos mejorar este resultado con otra técnica."
   ]
  },
  {
   "cell_type": "markdown",
   "metadata": {},
   "source": [
    "### Sobremuestreo\n",
    "Hagamos un sobremuestreo de los datos, duplicando la clase con menos frecuencia (las observaciones positivas)"
   ]
  },
  {
   "cell_type": "code",
   "execution_count": 26,
   "metadata": {},
   "outputs": [],
   "source": [
    "# función de sobremuestreo\n",
    "def upsample(features, target, repeat):\n",
    "    features_zeros = features[target == 0]\n",
    "    features_ones = features[target == 1]\n",
    "    target_zeros = target[target == 0]\n",
    "    target_ones = target[target == 1]\n",
    "\n",
    "    features_upsampled = pd.concat([features_zeros] + [features_ones] * repeat)\n",
    "    target_upsampled = pd.concat([target_zeros] + [target_ones] * repeat)\n",
    "\n",
    "    features_upsampled, target_upsampled = shuffle(\n",
    "        features_upsampled, target_upsampled, random_state=12345\n",
    "    )\n",
    "\n",
    "    return features_upsampled, target_upsampled"
   ]
  },
  {
   "cell_type": "code",
   "execution_count": 27,
   "metadata": {},
   "outputs": [],
   "source": [
    "# aplicamos el sobremuestreo\n",
    "features_upsampled, target_upsampled = upsample(\n",
    "    features_train, target_train, 10\n",
    ")"
   ]
  },
  {
   "cell_type": "code",
   "execution_count": 28,
   "metadata": {},
   "outputs": [
    {
     "name": "stdout",
     "output_type": "stream",
     "text": [
      "F1: 0.45968712394705175\n"
     ]
    }
   ],
   "source": [
    "# arbol de decisión\n",
    "modelo = DecisionTreeClassifier(random_state=12345)\n",
    "modelo.fit(features_upsampled, target_upsampled)\n",
    "\n",
    "# valor F1\n",
    "predicted_valid = modelo.predict(features_valid)\n",
    "print('F1:', f1_score(target_valid, predicted_valid))"
   ]
  },
  {
   "cell_type": "code",
   "execution_count": 29,
   "metadata": {},
   "outputs": [
    {
     "name": "stdout",
     "output_type": "stream",
     "text": [
      "AUC-ROC: 0.7635798063138539\n"
     ]
    }
   ],
   "source": [
    "# AUC-ROC\n",
    "probabilities_valid = model.predict_proba(features_valid)\n",
    "probabilities_one_valid = probabilities_valid[:, 1]\n",
    "print('AUC-ROC:', roc_auc_score(target_valid, probabilities_one_valid))"
   ]
  },
  {
   "cell_type": "markdown",
   "metadata": {},
   "source": [
    "Vemos que el valor F1 es incluso peor que el modelo original cuando realizamos un sobremuestreo.  \n",
    "Intentemos cambiando la profundidad del arbol."
   ]
  },
  {
   "cell_type": "code",
   "execution_count": 30,
   "metadata": {},
   "outputs": [
    {
     "name": "stdout",
     "output_type": "stream",
     "text": [
      "max_depth: 1\n",
      "F1: 0.3457402812241522\n",
      "AUC-ROC: 0.7635798063138539\n",
      "\n",
      "max_depth: 2\n",
      "F1: 0.49217002237136465\n",
      "AUC-ROC: 0.7635798063138539\n",
      "\n",
      "max_depth: 3\n",
      "F1: 0.4263356718834323\n",
      "AUC-ROC: 0.7635798063138539\n",
      "\n",
      "max_depth: 4\n",
      "F1: 0.4247020585048754\n",
      "AUC-ROC: 0.7635798063138539\n",
      "\n",
      "max_depth: 5\n",
      "F1: 0.4901293396868618\n",
      "AUC-ROC: 0.7635798063138539\n",
      "\n",
      "max_depth: 6\n",
      "F1: 0.4655612244897959\n",
      "AUC-ROC: 0.7635798063138539\n",
      "\n",
      "max_depth: 7\n",
      "F1: 0.5210608424336973\n",
      "AUC-ROC: 0.7635798063138539\n",
      "\n",
      "max_depth: 8\n",
      "F1: 0.4801730353280461\n",
      "AUC-ROC: 0.7635798063138539\n",
      "\n",
      "max_depth: 9\n",
      "F1: 0.49321266968325794\n",
      "AUC-ROC: 0.7635798063138539\n",
      "\n",
      "max_depth: 10\n",
      "F1: 0.48687350835322196\n",
      "AUC-ROC: 0.7635798063138539\n",
      "\n"
     ]
    }
   ],
   "source": [
    "# arbol de decisión\n",
    "for depth in range(1,11):  # selecciona el rango de la profundidad\n",
    "    model_tree = DecisionTreeClassifier(random_state=12345, max_depth=depth)\n",
    "    model_tree.fit(features_upsampled, target_upsampled)\n",
    "    predicted_valid = model_tree.predict(features_valid)\n",
    "    print(\"max_depth:\", depth)\n",
    "    print('F1:', f1_score(target_valid, predicted_valid))\n",
    "    \n",
    "    # AUC-ROC\n",
    "    probabilities_valid = model.predict_proba(features_valid)\n",
    "    probabilities_one_valid = probabilities_valid[:, 1]\n",
    "    print('AUC-ROC:', roc_auc_score(target_valid, probabilities_one_valid))\n",
    "    \n",
    "    print()"
   ]
  },
  {
   "cell_type": "markdown",
   "metadata": {},
   "source": [
    "No logramos hacer una mejoría en el valor.  \n",
    "Cambiemos el número de veces que se duplicará la clase para encontrar el valor más optimo."
   ]
  },
  {
   "cell_type": "code",
   "execution_count": 31,
   "metadata": {},
   "outputs": [
    {
     "name": "stdout",
     "output_type": "stream",
     "text": [
      "repeticiones: 1\n",
      "F1: 0.47990255785627284\n",
      "AUC-ROC: 0.7635798063138539\n",
      "\n",
      "repeticiones: 2\n",
      "F1: 0.4963680387409201\n",
      "AUC-ROC: 0.7635798063138539\n",
      "\n",
      "repeticiones: 3\n",
      "F1: 0.4969097651421508\n",
      "AUC-ROC: 0.7635798063138539\n",
      "\n",
      "repeticiones: 4\n",
      "F1: 0.4575645756457565\n",
      "AUC-ROC: 0.7635798063138539\n",
      "\n",
      "repeticiones: 5\n",
      "F1: 0.48166259168704156\n",
      "AUC-ROC: 0.7635798063138539\n",
      "\n",
      "repeticiones: 6\n",
      "F1: 0.4724602203182375\n",
      "AUC-ROC: 0.7635798063138539\n",
      "\n",
      "repeticiones: 7\n",
      "F1: 0.4701583434835566\n",
      "AUC-ROC: 0.7635798063138539\n",
      "\n",
      "repeticiones: 8\n",
      "F1: 0.49215922798552475\n",
      "AUC-ROC: 0.7635798063138539\n",
      "\n",
      "repeticiones: 9\n",
      "F1: 0.48198757763975153\n",
      "AUC-ROC: 0.7635798063138539\n",
      "\n",
      "repeticiones: 10\n",
      "F1: 0.45968712394705175\n",
      "AUC-ROC: 0.7635798063138539\n",
      "\n"
     ]
    }
   ],
   "source": [
    "for repeat in range(1,11):\n",
    "    features_upsampled, target_upsampled = upsample(features_train, target_train, repeat)\n",
    "    print('repeticiones:',repeat)\n",
    "    modelo = DecisionTreeClassifier(random_state=12345)\n",
    "    modelo.fit(features_upsampled, target_upsampled)\n",
    "    predicted_valid = modelo.predict(features_valid)\n",
    "    print('F1:', f1_score(target_valid, predicted_valid))\n",
    "    \n",
    "    # AUC-ROC\n",
    "    probabilities_valid = model.predict_proba(features_valid)\n",
    "    probabilities_one_valid = probabilities_valid[:, 1]\n",
    "    print('AUC-ROC:', roc_auc_score(target_valid, probabilities_one_valid))\n",
    "    \n",
    "    print()"
   ]
  },
  {
   "cell_type": "markdown",
   "metadata": {},
   "source": [
    "Parece que con un menor número de repeticiones, obtenemos una mejor calidad, pero el valor F1 aún está lejos de nuestro objetivo.  \n",
    "Intentemos con la regresión logística."
   ]
  },
  {
   "cell_type": "code",
   "execution_count": 32,
   "metadata": {},
   "outputs": [
    {
     "name": "stdout",
     "output_type": "stream",
     "text": [
      "F1: 0.4198895027624309\n",
      "AUC-ROC: 0.7635798063138539\n"
     ]
    }
   ],
   "source": [
    "# regresión logistica\n",
    "modelo = LogisticRegression(random_state=12345, solver='liblinear' )\n",
    "modelo.fit(features_upsampled, target_upsampled)\n",
    "predicted_valid = modelo.predict(features_valid)\n",
    "\n",
    "print('F1:', f1_score(target_valid, predicted_valid))\n",
    "\n",
    "# AUC-ROC\n",
    "probabilities_valid = model.predict_proba(features_valid)\n",
    "probabilities_one_valid = probabilities_valid[:, 1]\n",
    "print('AUC-ROC:', roc_auc_score(target_valid, probabilities_one_valid))"
   ]
  },
  {
   "cell_type": "markdown",
   "metadata": {},
   "source": [
    "Aunque el sobremuestreo es una técnica común para manejar el desequilibrio, en este caso no mejoró significativamente el rendimiento de tu modelo. A veces, el sobremuestreo puede llevar al sobreajuste, especialmente con modelos como los árboles de decisión.  \n",
    "Usaremos otro enfoque, esta vez aplicaremos un submuestreo, reduciendo las observaciones de la clase predominante."
   ]
  },
  {
   "cell_type": "markdown",
   "metadata": {},
   "source": [
    "### Submuestreo"
   ]
  },
  {
   "cell_type": "code",
   "execution_count": 33,
   "metadata": {},
   "outputs": [],
   "source": [
    "#función de submuestreo\n",
    "def downsample(features, target, fraction):\n",
    "    features_zeros = features[target == 0]\n",
    "    features_ones = features[target == 1]\n",
    "    target_zeros = target[target == 0]\n",
    "    target_ones = target[target == 1]\n",
    "\n",
    "    features_downsampled = pd.concat(\n",
    "        [features_zeros.sample(frac=fraction, random_state=12345)]\n",
    "        + [features_ones]\n",
    "    )\n",
    "    target_downsampled = pd.concat(\n",
    "        [target_zeros.sample(frac=fraction, random_state=12345)]\n",
    "        + [target_ones]\n",
    "    )\n",
    "\n",
    "    features_downsampled, target_downsampled = shuffle(\n",
    "        features_downsampled, target_downsampled, random_state=12345\n",
    "    )\n",
    "\n",
    "    return features_downsampled, target_downsampled"
   ]
  },
  {
   "cell_type": "code",
   "execution_count": 34,
   "metadata": {},
   "outputs": [],
   "source": [
    "# aplicamos el submuestreo\n",
    "features_downsampled, target_downsampled = downsample(\n",
    "    features_train, target_train, 0.6\n",
    ")"
   ]
  },
  {
   "cell_type": "code",
   "execution_count": 35,
   "metadata": {},
   "outputs": [
    {
     "name": "stdout",
     "output_type": "stream",
     "text": [
      "F1: 0.488659793814433\n",
      "AUC-ROC: 0.6839353008426134\n"
     ]
    }
   ],
   "source": [
    "# arbol de decisión\n",
    "model = DecisionTreeClassifier(random_state=12345)\n",
    "model.fit(features_downsampled, target_downsampled)\n",
    "predicted_valid = model.predict(features_valid)\n",
    "\n",
    "print('F1:', f1_score(target_valid, predicted_valid))\n",
    "\n",
    "# AUC-ROC\n",
    "probabilities_valid = model.predict_proba(features_valid)\n",
    "probabilities_one_valid = probabilities_valid[:, 1]\n",
    "print('AUC-ROC:', roc_auc_score(target_valid, probabilities_one_valid))"
   ]
  },
  {
   "cell_type": "markdown",
   "metadata": {},
   "source": [
    "El valor F1 es aún más bajo que con el sobremuestreo. Cambiemos la profundidad del arbol y veamos si conseguimos un mejor resultado."
   ]
  },
  {
   "cell_type": "code",
   "execution_count": 36,
   "metadata": {},
   "outputs": [
    {
     "name": "stdout",
     "output_type": "stream",
     "text": [
      "max_depth: 1\n",
      "F1: 0.49949031600407745\n",
      "AUC-ROC: 0.6839353008426134\n",
      "\n",
      "max_depth: 2\n",
      "F1: 0.5217391304347826\n",
      "AUC-ROC: 0.6839353008426134\n",
      "\n",
      "max_depth: 3\n",
      "F1: 0.5466666666666666\n",
      "AUC-ROC: 0.6839353008426134\n",
      "\n",
      "max_depth: 4\n",
      "F1: 0.5607940446650124\n",
      "AUC-ROC: 0.6839353008426134\n",
      "\n",
      "max_depth: 5\n",
      "F1: 0.5478260869565217\n",
      "AUC-ROC: 0.6839353008426134\n",
      "\n",
      "max_depth: 6\n",
      "F1: 0.5477178423236515\n",
      "AUC-ROC: 0.6839353008426134\n",
      "\n",
      "max_depth: 7\n",
      "F1: 0.5836477987421383\n",
      "AUC-ROC: 0.6839353008426134\n",
      "\n",
      "max_depth: 8\n",
      "F1: 0.59\n",
      "AUC-ROC: 0.6839353008426134\n",
      "\n",
      "max_depth: 9\n",
      "F1: 0.5302445302445302\n",
      "AUC-ROC: 0.6839353008426134\n",
      "\n",
      "max_depth: 10\n",
      "F1: 0.5483476132190942\n",
      "AUC-ROC: 0.6839353008426134\n",
      "\n"
     ]
    }
   ],
   "source": [
    "# arbol de decisión\n",
    "for depth in range(1,11):  # selecciona el rango de la profundidad\n",
    "    model_tree = DecisionTreeClassifier(random_state=12345, max_depth=depth)\n",
    "    model_tree.fit(features_downsampled, target_downsampled)\n",
    "    predicted_valid = model_tree.predict(features_valid)\n",
    "    print(\"max_depth:\", depth)\n",
    "    print('F1:', f1_score(target_valid, predicted_valid))\n",
    "    \n",
    "    # AUC-ROC\n",
    "    probabilities_valid = model.predict_proba(features_valid)\n",
    "    probabilities_one_valid = probabilities_valid[:, 1]\n",
    "    print('AUC-ROC:', roc_auc_score(target_valid, probabilities_one_valid))\n",
    "    \n",
    "    print()"
   ]
  },
  {
   "cell_type": "markdown",
   "metadata": {},
   "source": [
    "Pudimos alcanzar un valor F1 de 0.59, sin embargo el modelo con los datos sin el sobremuestreo sigue siendo ligeramente mejor."
   ]
  },
  {
   "cell_type": "code",
   "execution_count": 37,
   "metadata": {},
   "outputs": [
    {
     "name": "stdout",
     "output_type": "stream",
     "text": [
      "F1: 0.42219215155615697\n",
      "AUC-ROC: 0.7609409686726872\n"
     ]
    }
   ],
   "source": [
    "# regresión logistica\n",
    "model = LogisticRegression(random_state=12345, solver='liblinear')\n",
    "model.fit(features_downsampled, target_downsampled)\n",
    "predicted_valid = model.predict(features_valid)\n",
    "print('F1:', f1_score(target_valid, predicted_valid))\n",
    "\n",
    "# AUC-ROC\n",
    "probabilities_valid = model.predict_proba(features_valid)\n",
    "probabilities_one_valid = probabilities_valid[:, 1]\n",
    "print('AUC-ROC:', roc_auc_score(target_valid, probabilities_one_valid))"
   ]
  },
  {
   "cell_type": "markdown",
   "metadata": {},
   "source": [
    "Como podemos observar, el modelo con el mejor valor F1 se obtuvo al ajustar el peso de las clases, logrando también el mejor valor AUC-ROC. Por lo tanto, seleccionaremos un árbol de decisión con una profundidad de 5 como nuestro modelo definitivo."
   ]
  },
  {
   "cell_type": "markdown",
   "metadata": {},
   "source": [
    "## Prueba final\n",
    "Realizaremos la prueba de nuestro modelo, utilizando el conjunto de prueba."
   ]
  },
  {
   "cell_type": "code",
   "execution_count": 38,
   "metadata": {},
   "outputs": [
    {
     "name": "stdout",
     "output_type": "stream",
     "text": [
      "F1: 0.5809128630705395\n",
      "AUC-ROC: 0.8355347481752318\n"
     ]
    }
   ],
   "source": [
    "model_tree = DecisionTreeClassifier(random_state=12345, max_depth=5, class_weight='balanced')\n",
    "model_tree.fit(features_train, target_train)\n",
    "\n",
    "predicted_test = model_tree.predict(features_test)\n",
    "print('F1:', f1_score(target_test, predicted_test))\n",
    "\n",
    "probabilities_test = model_tree.predict_proba(features_test)\n",
    "probabilities_one_test = probabilities_test[:, 1]\n",
    "print('AUC-ROC:', roc_auc_score(target_test, probabilities_one_test))"
   ]
  },
  {
   "cell_type": "markdown",
   "metadata": {},
   "source": [
    "Obtuvimos un valor F1 ligeramente menor en comparación con el conjunto de validación, pero el valor AUC-ROC mejoró"
   ]
  },
  {
   "cell_type": "markdown",
   "metadata": {},
   "source": [
    "## Conclusión\n",
    "\n",
    "El desequilibrio de clases puede afectar la calidad de un modelo; sin embargo, necesitamos métricas específicas para detectar estos defectos. Las métricas de recall y precisión nos ayudan a entender mejor cómo actúa el algoritmo, al igual que la matriz de confusión.\n",
    "\n",
    "Tanto el valor F1 como el AUC-ROC combinan los conceptos de estas métricas y permiten evaluar la calidad del modelo. Es importante señalar que, para obtener resultados óptimos en estas métricas, es necesario realizar pruebas con distintos parámetros y modelos. Cada conjunto de datos tiene su propia complejidad, y lo que funciona bien para un modelo podría no dar el mejor resultado para otro."
   ]
  }
 ],
 "metadata": {
  "ExecuteTimeLog": [
   {
    "duration": 1213,
    "start_time": "2024-08-22T21:40:36.216Z"
   },
   {
    "duration": 40,
    "start_time": "2024-08-22T21:45:24.701Z"
   },
   {
    "duration": 58,
    "start_time": "2024-08-22T21:46:51.258Z"
   },
   {
    "duration": 17,
    "start_time": "2024-08-22T21:47:12.505Z"
   },
   {
    "duration": 49,
    "start_time": "2024-08-22T21:47:19.489Z"
   },
   {
    "duration": 472,
    "start_time": "2024-08-22T22:08:27.507Z"
   },
   {
    "duration": 21,
    "start_time": "2024-08-22T22:08:31.601Z"
   },
   {
    "duration": 28,
    "start_time": "2024-08-22T22:19:45.479Z"
   },
   {
    "duration": 307,
    "start_time": "2024-08-22T23:49:27.473Z"
   },
   {
    "duration": 8,
    "start_time": "2024-08-22T23:49:48.500Z"
   },
   {
    "duration": 21,
    "start_time": "2024-08-22T23:49:59.373Z"
   },
   {
    "duration": 30,
    "start_time": "2024-08-22T23:51:30.712Z"
   },
   {
    "duration": 1266,
    "start_time": "2024-08-22T23:51:43.794Z"
   },
   {
    "duration": 38,
    "start_time": "2024-08-22T23:51:45.064Z"
   },
   {
    "duration": 26,
    "start_time": "2024-08-22T23:51:45.105Z"
   },
   {
    "duration": 18,
    "start_time": "2024-08-22T23:51:45.134Z"
   },
   {
    "duration": 80,
    "start_time": "2024-08-22T23:51:45.156Z"
   },
   {
    "duration": 31,
    "start_time": "2024-08-22T23:51:45.239Z"
   },
   {
    "duration": 29,
    "start_time": "2024-08-22T23:52:14.018Z"
   },
   {
    "duration": 36,
    "start_time": "2024-08-22T23:52:39.201Z"
   },
   {
    "duration": 38,
    "start_time": "2024-08-22T23:52:47.352Z"
   },
   {
    "duration": 30,
    "start_time": "2024-08-22T23:53:03.720Z"
   },
   {
    "duration": 31,
    "start_time": "2024-08-23T00:41:02.082Z"
   },
   {
    "duration": 15,
    "start_time": "2024-08-23T00:41:32.595Z"
   },
   {
    "duration": 6,
    "start_time": "2024-08-23T00:41:49.104Z"
   },
   {
    "duration": 15,
    "start_time": "2024-08-23T00:41:52.242Z"
   },
   {
    "duration": 14,
    "start_time": "2024-08-23T00:44:55.479Z"
   },
   {
    "duration": 3,
    "start_time": "2024-08-23T00:46:51.116Z"
   },
   {
    "duration": 1237,
    "start_time": "2024-08-23T01:28:57.027Z"
   },
   {
    "duration": 26,
    "start_time": "2024-08-23T01:28:58.267Z"
   },
   {
    "duration": 36,
    "start_time": "2024-08-23T01:28:58.296Z"
   },
   {
    "duration": 18,
    "start_time": "2024-08-23T01:28:58.335Z"
   },
   {
    "duration": 88,
    "start_time": "2024-08-23T01:28:58.358Z"
   },
   {
    "duration": 7,
    "start_time": "2024-08-23T01:28:58.449Z"
   },
   {
    "duration": 17,
    "start_time": "2024-08-23T01:28:58.460Z"
   },
   {
    "duration": 40,
    "start_time": "2024-08-23T01:28:58.480Z"
   },
   {
    "duration": 112,
    "start_time": "2024-08-23T01:28:58.524Z"
   },
   {
    "duration": 95,
    "start_time": "2024-08-23T01:29:27.052Z"
   },
   {
    "duration": 324,
    "start_time": "2024-08-23T15:50:11.304Z"
   },
   {
    "duration": 1190,
    "start_time": "2024-08-23T15:50:27.289Z"
   },
   {
    "duration": 38,
    "start_time": "2024-08-23T15:50:28.483Z"
   },
   {
    "duration": 30,
    "start_time": "2024-08-23T15:50:28.525Z"
   },
   {
    "duration": 21,
    "start_time": "2024-08-23T15:50:28.558Z"
   },
   {
    "duration": 102,
    "start_time": "2024-08-23T15:50:28.583Z"
   },
   {
    "duration": 7,
    "start_time": "2024-08-23T15:50:28.688Z"
   },
   {
    "duration": 38,
    "start_time": "2024-08-23T15:50:28.698Z"
   },
   {
    "duration": 18,
    "start_time": "2024-08-23T15:50:28.740Z"
   },
   {
    "duration": 426,
    "start_time": "2024-08-23T15:50:28.764Z"
   },
   {
    "duration": 0,
    "start_time": "2024-08-23T15:50:29.193Z"
   },
   {
    "duration": 7,
    "start_time": "2024-08-23T15:50:42.837Z"
   },
   {
    "duration": 24,
    "start_time": "2024-08-23T15:50:45.167Z"
   },
   {
    "duration": 339,
    "start_time": "2024-08-24T00:23:13.627Z"
   },
   {
    "duration": 26,
    "start_time": "2024-08-24T00:23:21.028Z"
   },
   {
    "duration": 23,
    "start_time": "2024-08-24T00:23:30.489Z"
   },
   {
    "duration": 1233,
    "start_time": "2024-08-24T00:23:55.945Z"
   },
   {
    "duration": 42,
    "start_time": "2024-08-24T00:23:57.181Z"
   },
   {
    "duration": 31,
    "start_time": "2024-08-24T00:23:57.226Z"
   },
   {
    "duration": 20,
    "start_time": "2024-08-24T00:23:57.262Z"
   },
   {
    "duration": 83,
    "start_time": "2024-08-24T00:23:57.285Z"
   },
   {
    "duration": 8,
    "start_time": "2024-08-24T00:23:57.372Z"
   },
   {
    "duration": 45,
    "start_time": "2024-08-24T00:23:57.382Z"
   },
   {
    "duration": 14,
    "start_time": "2024-08-24T00:23:57.431Z"
   },
   {
    "duration": 3,
    "start_time": "2024-08-24T00:23:57.448Z"
   },
   {
    "duration": 131,
    "start_time": "2024-08-24T00:23:57.475Z"
   },
   {
    "duration": 440,
    "start_time": "2024-08-24T00:23:57.611Z"
   },
   {
    "duration": 0,
    "start_time": "2024-08-24T00:23:58.055Z"
   },
   {
    "duration": 0,
    "start_time": "2024-08-24T00:23:58.059Z"
   },
   {
    "duration": 0,
    "start_time": "2024-08-24T00:23:58.061Z"
   },
   {
    "duration": 49,
    "start_time": "2024-08-24T00:24:06.801Z"
   },
   {
    "duration": 217,
    "start_time": "2024-08-24T00:41:51.458Z"
   },
   {
    "duration": 89,
    "start_time": "2024-08-24T00:41:54.200Z"
   },
   {
    "duration": 5,
    "start_time": "2024-08-24T00:42:26.271Z"
   },
   {
    "duration": 5,
    "start_time": "2024-08-24T00:42:36.415Z"
   },
   {
    "duration": 5,
    "start_time": "2024-08-24T00:43:12.902Z"
   },
   {
    "duration": 5,
    "start_time": "2024-08-24T00:43:56.183Z"
   },
   {
    "duration": 40,
    "start_time": "2024-08-24T01:00:54.799Z"
   },
   {
    "duration": 17,
    "start_time": "2024-08-24T01:08:11.061Z"
   },
   {
    "duration": 29,
    "start_time": "2024-08-24T01:08:15.295Z"
   },
   {
    "duration": 12,
    "start_time": "2024-08-24T01:08:18.959Z"
   },
   {
    "duration": 30,
    "start_time": "2024-08-24T01:08:31.310Z"
   },
   {
    "duration": 25,
    "start_time": "2024-08-24T01:09:18.392Z"
   },
   {
    "duration": 22,
    "start_time": "2024-08-24T01:13:35.264Z"
   },
   {
    "duration": 14,
    "start_time": "2024-08-24T01:17:49.131Z"
   },
   {
    "duration": 11,
    "start_time": "2024-08-24T01:18:24.945Z"
   },
   {
    "duration": 36,
    "start_time": "2024-08-24T01:19:17.192Z"
   },
   {
    "duration": 34,
    "start_time": "2024-08-24T01:19:28.856Z"
   },
   {
    "duration": 289,
    "start_time": "2024-08-24T01:47:37.338Z"
   },
   {
    "duration": 1244,
    "start_time": "2024-08-24T01:55:39.630Z"
   },
   {
    "duration": 27,
    "start_time": "2024-08-24T01:55:40.878Z"
   },
   {
    "duration": 37,
    "start_time": "2024-08-24T01:55:40.907Z"
   },
   {
    "duration": 22,
    "start_time": "2024-08-24T01:55:40.947Z"
   },
   {
    "duration": 98,
    "start_time": "2024-08-24T01:55:40.973Z"
   },
   {
    "duration": 6,
    "start_time": "2024-08-24T01:55:41.074Z"
   },
   {
    "duration": 43,
    "start_time": "2024-08-24T01:55:41.084Z"
   },
   {
    "duration": 17,
    "start_time": "2024-08-24T01:55:41.130Z"
   },
   {
    "duration": 4,
    "start_time": "2024-08-24T01:55:41.151Z"
   },
   {
    "duration": 140,
    "start_time": "2024-08-24T01:55:41.159Z"
   },
   {
    "duration": 67,
    "start_time": "2024-08-24T01:55:41.302Z"
   },
   {
    "duration": 227,
    "start_time": "2024-08-24T01:55:41.372Z"
   },
   {
    "duration": 97,
    "start_time": "2024-08-24T01:55:41.602Z"
   },
   {
    "duration": 19,
    "start_time": "2024-08-24T01:55:41.706Z"
   },
   {
    "duration": 49,
    "start_time": "2024-08-24T01:55:41.728Z"
   },
   {
    "duration": 263,
    "start_time": "2024-08-24T01:55:41.782Z"
   },
   {
    "duration": 1404,
    "start_time": "2024-08-24T01:55:42.048Z"
   },
   {
    "duration": 4236,
    "start_time": "2024-08-24T01:56:48.610Z"
   },
   {
    "duration": 40,
    "start_time": "2024-08-24T02:01:07.652Z"
   },
   {
    "duration": 36,
    "start_time": "2024-08-24T02:01:47.164Z"
   },
   {
    "duration": 150,
    "start_time": "2024-08-24T02:02:01.963Z"
   },
   {
    "duration": 176,
    "start_time": "2024-08-24T02:02:23.650Z"
   },
   {
    "duration": 151,
    "start_time": "2024-08-24T02:02:47.038Z"
   },
   {
    "duration": 163,
    "start_time": "2024-08-24T02:03:10.924Z"
   },
   {
    "duration": 165,
    "start_time": "2024-08-24T02:03:16.833Z"
   },
   {
    "duration": 155,
    "start_time": "2024-08-24T02:04:28.703Z"
   },
   {
    "duration": 146,
    "start_time": "2024-08-24T02:04:34.072Z"
   },
   {
    "duration": 10,
    "start_time": "2024-08-24T02:38:43.474Z"
   },
   {
    "duration": 312,
    "start_time": "2024-08-24T03:30:20.330Z"
   },
   {
    "duration": 1221,
    "start_time": "2024-08-24T03:30:33.432Z"
   },
   {
    "duration": 39,
    "start_time": "2024-08-24T03:30:34.657Z"
   },
   {
    "duration": 29,
    "start_time": "2024-08-24T03:30:34.698Z"
   },
   {
    "duration": 20,
    "start_time": "2024-08-24T03:30:34.731Z"
   },
   {
    "duration": 84,
    "start_time": "2024-08-24T03:30:34.756Z"
   },
   {
    "duration": 7,
    "start_time": "2024-08-24T03:30:34.843Z"
   },
   {
    "duration": 16,
    "start_time": "2024-08-24T03:30:34.853Z"
   },
   {
    "duration": 47,
    "start_time": "2024-08-24T03:30:34.871Z"
   },
   {
    "duration": 3,
    "start_time": "2024-08-24T03:30:34.922Z"
   },
   {
    "duration": 119,
    "start_time": "2024-08-24T03:30:34.929Z"
   },
   {
    "duration": 59,
    "start_time": "2024-08-24T03:30:35.051Z"
   },
   {
    "duration": 234,
    "start_time": "2024-08-24T03:30:35.113Z"
   },
   {
    "duration": 99,
    "start_time": "2024-08-24T03:30:35.349Z"
   },
   {
    "duration": 4,
    "start_time": "2024-08-24T03:30:35.453Z"
   },
   {
    "duration": 61,
    "start_time": "2024-08-24T03:30:35.461Z"
   },
   {
    "duration": 244,
    "start_time": "2024-08-24T03:30:35.526Z"
   },
   {
    "duration": 4252,
    "start_time": "2024-08-24T03:30:35.772Z"
   },
   {
    "duration": 168,
    "start_time": "2024-08-24T03:30:40.027Z"
   },
   {
    "duration": 12,
    "start_time": "2024-08-24T03:30:40.199Z"
   },
   {
    "duration": 8,
    "start_time": "2024-08-24T03:30:40.214Z"
   },
   {
    "duration": 9,
    "start_time": "2024-08-24T03:32:16.380Z"
   },
   {
    "duration": 236,
    "start_time": "2024-08-24T03:33:30.273Z"
   },
   {
    "duration": 414,
    "start_time": "2024-08-24T03:33:58.084Z"
   },
   {
    "duration": 1233,
    "start_time": "2024-08-24T03:35:01.592Z"
   },
   {
    "duration": 176,
    "start_time": "2024-08-24T03:35:05.155Z"
   },
   {
    "duration": 160,
    "start_time": "2024-08-24T03:35:07.728Z"
   },
   {
    "duration": 99,
    "start_time": "2024-08-24T03:42:10.519Z"
   },
   {
    "duration": 9,
    "start_time": "2024-08-24T03:42:18.768Z"
   },
   {
    "duration": 8,
    "start_time": "2024-08-24T03:43:33.164Z"
   },
   {
    "duration": 8,
    "start_time": "2024-08-24T03:44:00.157Z"
   },
   {
    "duration": 326,
    "start_time": "2024-08-24T04:17:01.902Z"
   },
   {
    "duration": 111,
    "start_time": "2024-08-24T04:17:29.565Z"
   },
   {
    "duration": 685,
    "start_time": "2024-08-24T04:17:36.885Z"
   },
   {
    "duration": 7,
    "start_time": "2024-08-24T04:17:59.853Z"
   },
   {
    "duration": 11,
    "start_time": "2024-08-24T11:47:03.925Z"
   },
   {
    "duration": 308,
    "start_time": "2024-08-24T11:47:31.291Z"
   },
   {
    "duration": 23,
    "start_time": "2024-08-24T11:48:04.715Z"
   },
   {
    "duration": 1237,
    "start_time": "2024-08-24T11:48:10.130Z"
   },
   {
    "duration": 35,
    "start_time": "2024-08-24T11:48:11.370Z"
   },
   {
    "duration": 24,
    "start_time": "2024-08-24T11:48:11.408Z"
   },
   {
    "duration": 17,
    "start_time": "2024-08-24T11:48:11.435Z"
   },
   {
    "duration": 84,
    "start_time": "2024-08-24T11:48:11.457Z"
   },
   {
    "duration": 7,
    "start_time": "2024-08-24T11:48:11.545Z"
   },
   {
    "duration": 16,
    "start_time": "2024-08-24T11:48:11.556Z"
   },
   {
    "duration": 43,
    "start_time": "2024-08-24T11:48:11.575Z"
   },
   {
    "duration": 3,
    "start_time": "2024-08-24T11:48:11.621Z"
   },
   {
    "duration": 127,
    "start_time": "2024-08-24T11:48:11.629Z"
   },
   {
    "duration": 60,
    "start_time": "2024-08-24T11:48:11.759Z"
   },
   {
    "duration": 227,
    "start_time": "2024-08-24T11:48:11.822Z"
   },
   {
    "duration": 102,
    "start_time": "2024-08-24T11:48:12.052Z"
   },
   {
    "duration": 6,
    "start_time": "2024-08-24T11:48:12.161Z"
   },
   {
    "duration": 65,
    "start_time": "2024-08-24T11:48:12.170Z"
   },
   {
    "duration": 9,
    "start_time": "2024-08-24T11:48:12.238Z"
   },
   {
    "duration": 1291,
    "start_time": "2024-08-24T11:48:12.250Z"
   },
   {
    "duration": 4123,
    "start_time": "2024-08-24T11:48:13.544Z"
   },
   {
    "duration": 189,
    "start_time": "2024-08-24T11:48:17.671Z"
   },
   {
    "duration": 9,
    "start_time": "2024-08-24T11:48:17.864Z"
   },
   {
    "duration": 31,
    "start_time": "2024-08-24T11:48:17.877Z"
   },
   {
    "duration": 10,
    "start_time": "2024-08-24T11:48:17.911Z"
   },
   {
    "duration": 341,
    "start_time": "2024-08-24T11:48:17.925Z"
   },
   {
    "duration": 794,
    "start_time": "2024-08-24T11:48:18.305Z"
   },
   {
    "duration": 6,
    "start_time": "2024-08-24T11:48:19.102Z"
   },
   {
    "duration": 1059,
    "start_time": "2024-08-24T11:48:19.113Z"
   },
   {
    "duration": 146,
    "start_time": "2024-08-24T11:50:39.392Z"
   },
   {
    "duration": 583,
    "start_time": "2024-08-24T11:51:48.504Z"
   },
   {
    "duration": 1603,
    "start_time": "2024-08-24T11:52:01.696Z"
   },
   {
    "duration": 511,
    "start_time": "2024-08-24T12:15:52.249Z"
   },
   {
    "duration": 23,
    "start_time": "2024-08-24T12:16:20.232Z"
   },
   {
    "duration": 6,
    "start_time": "2024-08-24T12:16:26.049Z"
   },
   {
    "duration": 201,
    "start_time": "2024-08-24T12:16:46.407Z"
   },
   {
    "duration": 147,
    "start_time": "2024-08-24T12:17:17.689Z"
   },
   {
    "duration": 190,
    "start_time": "2024-08-24T12:17:39.831Z"
   },
   {
    "duration": 1248,
    "start_time": "2024-08-24T12:18:09.397Z"
   },
   {
    "duration": 24,
    "start_time": "2024-08-24T12:18:10.649Z"
   },
   {
    "duration": 40,
    "start_time": "2024-08-24T12:18:10.676Z"
   },
   {
    "duration": 18,
    "start_time": "2024-08-24T12:18:10.719Z"
   },
   {
    "duration": 77,
    "start_time": "2024-08-24T12:18:10.741Z"
   },
   {
    "duration": 7,
    "start_time": "2024-08-24T12:18:10.821Z"
   },
   {
    "duration": 17,
    "start_time": "2024-08-24T12:18:10.832Z"
   },
   {
    "duration": 14,
    "start_time": "2024-08-24T12:18:10.852Z"
   },
   {
    "duration": 38,
    "start_time": "2024-08-24T12:18:10.869Z"
   },
   {
    "duration": 114,
    "start_time": "2024-08-24T12:18:10.913Z"
   },
   {
    "duration": 50,
    "start_time": "2024-08-24T12:18:11.029Z"
   },
   {
    "duration": 242,
    "start_time": "2024-08-24T12:18:11.082Z"
   },
   {
    "duration": 100,
    "start_time": "2024-08-24T12:18:11.327Z"
   },
   {
    "duration": 5,
    "start_time": "2024-08-24T12:18:11.430Z"
   },
   {
    "duration": 44,
    "start_time": "2024-08-24T12:18:11.438Z"
   },
   {
    "duration": 9,
    "start_time": "2024-08-24T12:18:11.507Z"
   },
   {
    "duration": 1293,
    "start_time": "2024-08-24T12:18:11.519Z"
   },
   {
    "duration": 488,
    "start_time": "2024-08-24T12:18:12.815Z"
   },
   {
    "duration": 180,
    "start_time": "2024-08-24T12:18:13.307Z"
   },
   {
    "duration": 16,
    "start_time": "2024-08-24T12:18:13.491Z"
   },
   {
    "duration": 11,
    "start_time": "2024-08-24T12:18:13.510Z"
   },
   {
    "duration": 11,
    "start_time": "2024-08-24T12:18:13.524Z"
   },
   {
    "duration": 369,
    "start_time": "2024-08-24T12:18:13.541Z"
   },
   {
    "duration": 846,
    "start_time": "2024-08-24T12:18:13.912Z"
   },
   {
    "duration": 7,
    "start_time": "2024-08-24T12:18:14.762Z"
   },
   {
    "duration": 538,
    "start_time": "2024-08-24T12:18:14.772Z"
   },
   {
    "duration": 552,
    "start_time": "2024-08-24T12:18:15.313Z"
   },
   {
    "duration": 1725,
    "start_time": "2024-08-24T12:18:15.871Z"
   },
   {
    "duration": 10,
    "start_time": "2024-08-24T12:18:17.599Z"
   },
   {
    "duration": 212,
    "start_time": "2024-08-24T12:18:17.613Z"
   },
   {
    "duration": 180,
    "start_time": "2024-08-24T12:18:17.828Z"
   },
   {
    "duration": 280,
    "start_time": "2024-08-24T12:18:18.011Z"
   },
   {
    "duration": 174,
    "start_time": "2024-08-24T12:18:32.361Z"
   },
   {
    "duration": 125,
    "start_time": "2024-08-24T12:18:33.882Z"
   },
   {
    "duration": 162,
    "start_time": "2024-08-24T12:18:35.257Z"
   },
   {
    "duration": 265,
    "start_time": "2024-08-24T12:18:44.193Z"
   },
   {
    "duration": 189,
    "start_time": "2024-08-24T12:18:45.360Z"
   },
   {
    "duration": 367,
    "start_time": "2024-08-24T12:18:46.649Z"
   },
   {
    "duration": 193,
    "start_time": "2024-08-24T12:18:53.744Z"
   },
   {
    "duration": 152,
    "start_time": "2024-08-24T12:18:55.104Z"
   },
   {
    "duration": 193,
    "start_time": "2024-08-24T12:18:57.100Z"
   },
   {
    "duration": 1213,
    "start_time": "2024-08-24T15:53:24.846Z"
   },
   {
    "duration": 25,
    "start_time": "2024-08-24T15:53:26.062Z"
   },
   {
    "duration": 36,
    "start_time": "2024-08-24T15:53:26.089Z"
   },
   {
    "duration": 19,
    "start_time": "2024-08-24T15:53:26.128Z"
   },
   {
    "duration": 79,
    "start_time": "2024-08-24T15:53:26.151Z"
   },
   {
    "duration": 7,
    "start_time": "2024-08-24T15:53:26.233Z"
   },
   {
    "duration": 17,
    "start_time": "2024-08-24T15:53:26.245Z"
   },
   {
    "duration": 41,
    "start_time": "2024-08-24T15:53:26.265Z"
   },
   {
    "duration": 4,
    "start_time": "2024-08-24T15:53:26.309Z"
   },
   {
    "duration": 124,
    "start_time": "2024-08-24T15:53:26.316Z"
   },
   {
    "duration": 67,
    "start_time": "2024-08-24T15:53:26.443Z"
   },
   {
    "duration": 229,
    "start_time": "2024-08-24T15:53:26.513Z"
   },
   {
    "duration": 103,
    "start_time": "2024-08-24T15:53:26.745Z"
   },
   {
    "duration": 5,
    "start_time": "2024-08-24T15:53:26.854Z"
   },
   {
    "duration": 58,
    "start_time": "2024-08-24T15:53:26.861Z"
   },
   {
    "duration": 10,
    "start_time": "2024-08-24T15:53:26.922Z"
   },
   {
    "duration": 1309,
    "start_time": "2024-08-24T15:53:26.937Z"
   },
   {
    "duration": 505,
    "start_time": "2024-08-24T15:53:28.249Z"
   },
   {
    "duration": 198,
    "start_time": "2024-08-24T15:53:28.757Z"
   },
   {
    "duration": 10,
    "start_time": "2024-08-24T15:53:28.958Z"
   },
   {
    "duration": 8,
    "start_time": "2024-08-24T15:53:28.972Z"
   },
   {
    "duration": 8,
    "start_time": "2024-08-24T15:53:29.008Z"
   },
   {
    "duration": 727,
    "start_time": "2024-08-24T15:53:29.021Z"
   },
   {
    "duration": 357,
    "start_time": "2024-08-24T15:53:29.751Z"
   },
   {
    "duration": 540,
    "start_time": "2024-08-24T15:53:30.110Z"
   },
   {
    "duration": 0,
    "start_time": "2024-08-24T15:53:30.653Z"
   },
   {
    "duration": 0,
    "start_time": "2024-08-24T15:53:30.655Z"
   },
   {
    "duration": 0,
    "start_time": "2024-08-24T15:53:30.657Z"
   },
   {
    "duration": 0,
    "start_time": "2024-08-24T15:53:30.658Z"
   },
   {
    "duration": 0,
    "start_time": "2024-08-24T15:53:30.660Z"
   },
   {
    "duration": 0,
    "start_time": "2024-08-24T15:53:30.662Z"
   },
   {
    "duration": 0,
    "start_time": "2024-08-24T15:53:30.665Z"
   },
   {
    "duration": 0,
    "start_time": "2024-08-24T15:53:30.667Z"
   },
   {
    "duration": 6,
    "start_time": "2024-08-24T15:53:45.563Z"
   },
   {
    "duration": 529,
    "start_time": "2024-08-24T16:12:08.605Z"
   },
   {
    "duration": 9628,
    "start_time": "2024-08-24T16:12:10.893Z"
   },
   {
    "duration": 1628,
    "start_time": "2024-08-24T16:13:15.750Z"
   },
   {
    "duration": 21862,
    "start_time": "2024-08-24T16:14:14.566Z"
   },
   {
    "duration": 9600,
    "start_time": "2024-08-24T16:21:14.582Z"
   },
   {
    "duration": 3528,
    "start_time": "2024-08-24T16:21:44.904Z"
   },
   {
    "duration": 8356,
    "start_time": "2024-08-24T16:38:50.657Z"
   },
   {
    "duration": 378,
    "start_time": "2024-08-24T16:39:48.098Z"
   },
   {
    "duration": 1116,
    "start_time": "2024-08-24T16:39:50.249Z"
   },
   {
    "duration": 10,
    "start_time": "2024-08-24T16:44:56.527Z"
   },
   {
    "duration": 7,
    "start_time": "2024-08-24T16:45:00.798Z"
   },
   {
    "duration": 14145,
    "start_time": "2024-08-24T16:45:15.037Z"
   },
   {
    "duration": 7806,
    "start_time": "2024-08-24T16:46:45.526Z"
   },
   {
    "duration": 16226,
    "start_time": "2024-08-24T16:47:16.346Z"
   },
   {
    "duration": 1184,
    "start_time": "2024-08-24T16:48:34.381Z"
   },
   {
    "duration": 25,
    "start_time": "2024-08-24T16:48:35.569Z"
   },
   {
    "duration": 28,
    "start_time": "2024-08-24T16:48:35.597Z"
   },
   {
    "duration": 17,
    "start_time": "2024-08-24T16:48:35.628Z"
   },
   {
    "duration": 85,
    "start_time": "2024-08-24T16:48:35.650Z"
   },
   {
    "duration": 6,
    "start_time": "2024-08-24T16:48:35.738Z"
   },
   {
    "duration": 16,
    "start_time": "2024-08-24T16:48:35.748Z"
   },
   {
    "duration": 48,
    "start_time": "2024-08-24T16:48:35.767Z"
   },
   {
    "duration": 3,
    "start_time": "2024-08-24T16:48:35.819Z"
   },
   {
    "duration": 121,
    "start_time": "2024-08-24T16:48:35.826Z"
   },
   {
    "duration": 61,
    "start_time": "2024-08-24T16:48:35.950Z"
   },
   {
    "duration": 233,
    "start_time": "2024-08-24T16:48:36.013Z"
   },
   {
    "duration": 113,
    "start_time": "2024-08-24T16:48:36.249Z"
   },
   {
    "duration": 5,
    "start_time": "2024-08-24T16:48:36.369Z"
   },
   {
    "duration": 60,
    "start_time": "2024-08-24T16:48:36.378Z"
   },
   {
    "duration": 9,
    "start_time": "2024-08-24T16:48:36.440Z"
   },
   {
    "duration": 1300,
    "start_time": "2024-08-24T16:48:36.452Z"
   },
   {
    "duration": 504,
    "start_time": "2024-08-24T16:48:37.754Z"
   },
   {
    "duration": 196,
    "start_time": "2024-08-24T16:48:38.261Z"
   },
   {
    "duration": 10,
    "start_time": "2024-08-24T16:48:38.461Z"
   },
   {
    "duration": 34,
    "start_time": "2024-08-24T16:48:38.473Z"
   },
   {
    "duration": 11,
    "start_time": "2024-08-24T16:48:38.510Z"
   },
   {
    "duration": 3552,
    "start_time": "2024-08-24T16:48:38.523Z"
   },
   {
    "duration": 340,
    "start_time": "2024-08-24T16:48:42.079Z"
   },
   {
    "duration": 7,
    "start_time": "2024-08-24T16:48:42.424Z"
   },
   {
    "duration": 658,
    "start_time": "2024-08-24T16:48:42.435Z"
   },
   {
    "duration": 1620,
    "start_time": "2024-08-24T16:48:43.097Z"
   },
   {
    "duration": 421,
    "start_time": "2024-08-24T16:48:44.719Z"
   },
   {
    "duration": 0,
    "start_time": "2024-08-24T16:48:45.143Z"
   },
   {
    "duration": 0,
    "start_time": "2024-08-24T16:48:45.145Z"
   },
   {
    "duration": 0,
    "start_time": "2024-08-24T16:48:45.147Z"
   },
   {
    "duration": 0,
    "start_time": "2024-08-24T16:48:45.150Z"
   },
   {
    "duration": 0,
    "start_time": "2024-08-24T16:48:45.152Z"
   },
   {
    "duration": 0,
    "start_time": "2024-08-24T16:48:45.153Z"
   },
   {
    "duration": 0,
    "start_time": "2024-08-24T16:48:45.156Z"
   },
   {
    "duration": 9662,
    "start_time": "2024-08-24T16:50:51.890Z"
   },
   {
    "duration": 16153,
    "start_time": "2024-08-24T16:54:19.180Z"
   },
   {
    "duration": 7,
    "start_time": "2024-08-24T16:58:52.665Z"
   },
   {
    "duration": 534,
    "start_time": "2024-08-24T16:59:14.796Z"
   },
   {
    "duration": 203,
    "start_time": "2024-08-24T16:59:46.274Z"
   },
   {
    "duration": 1483,
    "start_time": "2024-08-24T17:00:00.018Z"
   },
   {
    "duration": 189,
    "start_time": "2024-08-24T17:00:20.727Z"
   },
   {
    "duration": 146,
    "start_time": "2024-08-24T17:07:52.493Z"
   },
   {
    "duration": 1226,
    "start_time": "2024-08-24T17:17:42.736Z"
   },
   {
    "duration": 24,
    "start_time": "2024-08-24T17:17:43.966Z"
   },
   {
    "duration": 33,
    "start_time": "2024-08-24T17:17:43.993Z"
   },
   {
    "duration": 17,
    "start_time": "2024-08-24T17:17:44.029Z"
   },
   {
    "duration": 83,
    "start_time": "2024-08-24T17:17:44.051Z"
   },
   {
    "duration": 7,
    "start_time": "2024-08-24T17:17:44.137Z"
   },
   {
    "duration": 19,
    "start_time": "2024-08-24T17:17:44.146Z"
   },
   {
    "duration": 42,
    "start_time": "2024-08-24T17:17:44.168Z"
   },
   {
    "duration": 3,
    "start_time": "2024-08-24T17:17:44.213Z"
   },
   {
    "duration": 128,
    "start_time": "2024-08-24T17:17:44.219Z"
   },
   {
    "duration": 64,
    "start_time": "2024-08-24T17:17:44.351Z"
   },
   {
    "duration": 233,
    "start_time": "2024-08-24T17:17:44.419Z"
   },
   {
    "duration": 102,
    "start_time": "2024-08-24T17:17:44.654Z"
   },
   {
    "duration": 5,
    "start_time": "2024-08-24T17:17:44.762Z"
   },
   {
    "duration": 57,
    "start_time": "2024-08-24T17:17:44.770Z"
   },
   {
    "duration": 9,
    "start_time": "2024-08-24T17:17:44.830Z"
   },
   {
    "duration": 1304,
    "start_time": "2024-08-24T17:17:44.842Z"
   },
   {
    "duration": 491,
    "start_time": "2024-08-24T17:17:46.148Z"
   },
   {
    "duration": 190,
    "start_time": "2024-08-24T17:17:46.644Z"
   },
   {
    "duration": 9,
    "start_time": "2024-08-24T17:17:46.837Z"
   },
   {
    "duration": 8,
    "start_time": "2024-08-24T17:17:46.849Z"
   },
   {
    "duration": 47,
    "start_time": "2024-08-24T17:17:46.860Z"
   },
   {
    "duration": 427,
    "start_time": "2024-08-24T17:17:46.910Z"
   },
   {
    "duration": 0,
    "start_time": "2024-08-24T17:17:47.339Z"
   },
   {
    "duration": 0,
    "start_time": "2024-08-24T17:17:47.342Z"
   },
   {
    "duration": 0,
    "start_time": "2024-08-24T17:17:47.345Z"
   },
   {
    "duration": 0,
    "start_time": "2024-08-24T17:17:47.347Z"
   },
   {
    "duration": 0,
    "start_time": "2024-08-24T17:17:47.350Z"
   },
   {
    "duration": 0,
    "start_time": "2024-08-24T17:17:47.351Z"
   },
   {
    "duration": 0,
    "start_time": "2024-08-24T17:17:47.354Z"
   },
   {
    "duration": 0,
    "start_time": "2024-08-24T17:17:47.356Z"
   },
   {
    "duration": 0,
    "start_time": "2024-08-24T17:17:47.358Z"
   },
   {
    "duration": 0,
    "start_time": "2024-08-24T17:17:47.361Z"
   },
   {
    "duration": 0,
    "start_time": "2024-08-24T17:17:47.363Z"
   },
   {
    "duration": 0,
    "start_time": "2024-08-24T17:17:47.365Z"
   },
   {
    "duration": 0,
    "start_time": "2024-08-24T17:17:47.408Z"
   },
   {
    "duration": 28,
    "start_time": "2024-08-24T17:18:18.787Z"
   },
   {
    "duration": 52,
    "start_time": "2024-08-24T17:19:31.566Z"
   },
   {
    "duration": 3548,
    "start_time": "2024-08-24T17:38:38.471Z"
   },
   {
    "duration": 331,
    "start_time": "2024-08-24T17:39:55.677Z"
   },
   {
    "duration": 48,
    "start_time": "2024-08-24T17:40:37.949Z"
   },
   {
    "duration": 3903,
    "start_time": "2024-08-24T17:44:30.695Z"
   },
   {
    "duration": 301,
    "start_time": "2024-08-24T17:45:26.255Z"
   },
   {
    "duration": 45,
    "start_time": "2024-08-24T17:45:57.079Z"
   },
   {
    "duration": 25,
    "start_time": "2024-08-24T17:47:52.692Z"
   },
   {
    "duration": 7,
    "start_time": "2024-08-24T17:47:56.081Z"
   },
   {
    "duration": 518,
    "start_time": "2024-08-24T17:47:57.816Z"
   },
   {
    "duration": 1626,
    "start_time": "2024-08-24T17:47:58.967Z"
   },
   {
    "duration": 51,
    "start_time": "2024-08-24T17:51:40.323Z"
   },
   {
    "duration": 11165,
    "start_time": "2024-08-24T17:52:15.512Z"
   },
   {
    "duration": 17726,
    "start_time": "2024-08-24T17:52:45.601Z"
   },
   {
    "duration": 727,
    "start_time": "2024-08-24T17:53:24.185Z"
   },
   {
    "duration": 6,
    "start_time": "2024-08-24T17:53:32.545Z"
   },
   {
    "duration": 193,
    "start_time": "2024-08-24T17:53:39.567Z"
   },
   {
    "duration": 236,
    "start_time": "2024-08-24T17:53:45.096Z"
   },
   {
    "duration": 1918,
    "start_time": "2024-08-24T17:54:06.213Z"
   },
   {
    "duration": 256,
    "start_time": "2024-08-24T17:54:34.862Z"
   },
   {
    "duration": 521,
    "start_time": "2024-08-24T18:11:27.597Z"
   },
   {
    "duration": 1262,
    "start_time": "2024-08-26T02:28:38.003Z"
   },
   {
    "duration": 37,
    "start_time": "2024-08-26T02:28:39.268Z"
   },
   {
    "duration": 25,
    "start_time": "2024-08-26T02:28:39.309Z"
   },
   {
    "duration": 17,
    "start_time": "2024-08-26T02:28:39.337Z"
   },
   {
    "duration": 84,
    "start_time": "2024-08-26T02:28:39.359Z"
   },
   {
    "duration": 6,
    "start_time": "2024-08-26T02:28:39.446Z"
   },
   {
    "duration": 16,
    "start_time": "2024-08-26T02:28:39.455Z"
   },
   {
    "duration": 38,
    "start_time": "2024-08-26T02:28:39.474Z"
   },
   {
    "duration": 3,
    "start_time": "2024-08-26T02:28:39.515Z"
   },
   {
    "duration": 124,
    "start_time": "2024-08-26T02:28:39.522Z"
   },
   {
    "duration": 60,
    "start_time": "2024-08-26T02:28:39.649Z"
   },
   {
    "duration": 227,
    "start_time": "2024-08-26T02:28:39.711Z"
   },
   {
    "duration": 100,
    "start_time": "2024-08-26T02:28:39.941Z"
   },
   {
    "duration": 4,
    "start_time": "2024-08-26T02:28:40.049Z"
   },
   {
    "duration": 62,
    "start_time": "2024-08-26T02:28:40.057Z"
   },
   {
    "duration": 10,
    "start_time": "2024-08-26T02:28:40.122Z"
   },
   {
    "duration": 1317,
    "start_time": "2024-08-26T02:28:40.134Z"
   },
   {
    "duration": 3850,
    "start_time": "2024-08-26T02:28:41.454Z"
   },
   {
    "duration": 195,
    "start_time": "2024-08-26T02:28:45.307Z"
   },
   {
    "duration": 10,
    "start_time": "2024-08-26T02:28:45.505Z"
   },
   {
    "duration": 10,
    "start_time": "2024-08-26T02:28:45.518Z"
   },
   {
    "duration": 7,
    "start_time": "2024-08-26T02:28:45.531Z"
   },
   {
    "duration": 88,
    "start_time": "2024-08-26T02:28:45.541Z"
   },
   {
    "duration": 3915,
    "start_time": "2024-08-26T02:28:45.632Z"
   },
   {
    "duration": 380,
    "start_time": "2024-08-26T02:28:49.549Z"
   },
   {
    "duration": 99,
    "start_time": "2024-08-26T02:28:50.003Z"
   },
   {
    "duration": 7,
    "start_time": "2024-08-26T02:28:50.105Z"
   },
   {
    "duration": 591,
    "start_time": "2024-08-26T02:28:50.116Z"
   },
   {
    "duration": 1588,
    "start_time": "2024-08-26T02:28:50.710Z"
   },
   {
    "duration": 45,
    "start_time": "2024-08-26T02:28:52.305Z"
   },
   {
    "duration": 11089,
    "start_time": "2024-08-26T02:28:52.353Z"
   },
   {
    "duration": 17756,
    "start_time": "2024-08-26T02:29:03.446Z"
   },
   {
    "duration": 806,
    "start_time": "2024-08-26T02:29:21.205Z"
   },
   {
    "duration": 7,
    "start_time": "2024-08-26T02:29:22.013Z"
   },
   {
    "duration": 359,
    "start_time": "2024-08-26T02:29:22.022Z"
   },
   {
    "duration": 235,
    "start_time": "2024-08-26T02:29:22.384Z"
   },
   {
    "duration": 1887,
    "start_time": "2024-08-26T02:29:22.623Z"
   },
   {
    "duration": 298,
    "start_time": "2024-08-26T02:29:24.513Z"
   },
   {
    "duration": 608,
    "start_time": "2024-08-26T02:29:24.815Z"
   }
  ],
  "kernelspec": {
   "display_name": "Python 3",
   "language": "python",
   "name": "python3"
  },
  "language_info": {
   "codemirror_mode": {
    "name": "ipython",
    "version": 3
   },
   "file_extension": ".py",
   "mimetype": "text/x-python",
   "name": "python",
   "nbconvert_exporter": "python",
   "pygments_lexer": "ipython3",
   "version": "3.11.3"
  },
  "toc": {
   "base_numbering": 1,
   "nav_menu": {},
   "number_sections": true,
   "sideBar": true,
   "skip_h1_title": true,
   "title_cell": "Table of Contents",
   "title_sidebar": "Contents",
   "toc_cell": false,
   "toc_position": {
    "height": "calc(100% - 180px)",
    "left": "10px",
    "top": "150px",
    "width": "331.33px"
   },
   "toc_section_display": true,
   "toc_window_display": true
  }
 },
 "nbformat": 4,
 "nbformat_minor": 2
}
